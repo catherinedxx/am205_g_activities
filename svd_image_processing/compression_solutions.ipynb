{
  "nbformat": 4,
  "nbformat_minor": 0,
  "metadata": {
    "colab": {
      "name": "compression_solutions.ipynb",
      "provenance": [],
      "collapsed_sections": [],
      "include_colab_link": true
    },
    "kernelspec": {
      "name": "python3",
      "display_name": "Python 3"
    }
  },
  "cells": [
    {
      "cell_type": "markdown",
      "metadata": {
        "id": "view-in-github",
        "colab_type": "text"
      },
      "source": [
        "<a href=\"https://colab.research.google.com/github/chr1shr/am205_g_activities/blob/master/compression_solutions.ipynb\" target=\"_parent\"><img src=\"https://colab.research.google.com/assets/colab-badge.svg\" alt=\"Open In Colab\"/></a>"
      ]
    },
    {
      "cell_type": "markdown",
      "metadata": {
        "id": "a-mz2dsLBAZk"
      },
      "source": [
        "# Image compression using SVD"
      ]
    },
    {
      "cell_type": "code",
      "metadata": {
        "id": "egH7OM6Q-_n6"
      },
      "source": [
        "# start by importing some necessary packages\n",
        "%matplotlib inline\n",
        "import numpy as np\n",
        "import matplotlib.pyplot as plt\n",
        "from skimage.io import imread"
      ],
      "execution_count": null,
      "outputs": []
    },
    {
      "cell_type": "markdown",
      "metadata": {
        "id": "JkzMCB-0BgSq"
      },
      "source": [
        "We read in a test image and convert to a $[0,1]$ scale before performing any arithmetic."
      ]
    },
    {
      "cell_type": "code",
      "metadata": {
        "id": "4fH8ouBlBLF4"
      },
      "source": [
        "im = imread(\"https://raw.githubusercontent.com/jandrejevic12/svd_files/master/turtle.JPG\")\n",
        "im = im.astype(np.float)/255.\n",
        "\n",
        "plt.imshow(im)\n",
        "plt.axis('off')\n",
        "plt.show()"
      ],
      "execution_count": null,
      "outputs": []
    },
    {
      "cell_type": "markdown",
      "metadata": {
        "id": "tIbPYt6gCxT6"
      },
      "source": [
        "Next, we vertically stack the color channels to form a $3m\\times{n}$ image, where the $n$ columns of the image represent our samples."
      ]
    },
    {
      "cell_type": "code",
      "metadata": {
        "id": "72P_hCo3BoMM"
      },
      "source": [
        "m,n,p = im.shape\n",
        "S = np.vstack([im[:,:,0],\n",
        "\t\t\t         im[:,:,1],\n",
        "\t\t\t         im[:,:,2]])"
      ],
      "execution_count": null,
      "outputs": []
    },
    {
      "cell_type": "markdown",
      "metadata": {
        "id": "8LJaGu0JDCR7"
      },
      "source": [
        "Complete the following function ```factor(S)```, which should take in the data matrix $S$, compute the mean column vector $\\bar{S}$ and a centered data matrix $A = S - \\bar{S}$, and compute the reduced SVD of $A$. Return the components of the singular value decomposition **and** the computed column mean.\n",
        "\n",
        "**Note:** ```numpy.linalg.svd``` returns the singular values as a 1D array, not a 2D matrix, and you can leave them in that form."
      ]
    },
    {
      "cell_type": "code",
      "metadata": {
        "id": "qYOEihBfC_FM"
      },
      "source": [
        "def factor(S):\n",
        "  # Compute the mean over all columns.\n",
        "  Sm = np.mean(S, axis=1, keepdims=True) # even though it is a vector, keep it two-dimensional.\n",
        "\n",
        "  # Perform a reduced SVD on the centered matrix.\n",
        "  A = S - Sm\n",
        "  U, s, Vt = np.linalg.svd(A, full_matrices=False)\n",
        "  return U, s, Vt, Sm"
      ],
      "execution_count": null,
      "outputs": []
    },
    {
      "cell_type": "markdown",
      "metadata": {
        "id": "F7VN5MzuG97j"
      },
      "source": [
        "Next, write a function ```rank_approx(U, s, Vt, k)``` which accepts an SVD factorization outputted by ```factor(S)``` and a maximum rank $k$, and assembles a list $L$ of the first $k$ rank-one matrices in the low-rank approximation of the data matrix. The list $L$ should be of the form\n",
        "$$\n",
        "L = [\\sigma_1 u_1 v_1^T, \\sigma_2 u_2 v_2^T, ..., \\sigma_k u_k v_k^T]\n",
        "$$\n",
        "Return the list as your output."
      ]
    },
    {
      "cell_type": "code",
      "metadata": {
        "id": "96s2x7zEHOw3"
      },
      "source": [
        "def rank_approx(U, s, Vt, k):\n",
        "    L = [s[i]*np.dot(U[:,i].reshape(-1,1), Vt[i,:].reshape(1,-1)) # each term is a rank-one matrix s*u*vT\n",
        "        for i in range(k)]\n",
        "    return L"
      ],
      "execution_count": null,
      "outputs": []
    },
    {
      "cell_type": "markdown",
      "metadata": {
        "id": "hO4j6QZYEu_W"
      },
      "source": [
        "The function ```reconstruct(L, r, Sbar)``` below accepts the list of low-rank approximations $L$, a target rank $r < k$, and the column mean $\\bar{S}$, and returns the rank-$r$ reconstructed image. If your previous functions are set up correctly, you should be able to run the following cell and plot a test reconstruction:"
      ]
    },
    {
      "cell_type": "code",
      "metadata": {
        "id": "DmyvN8lCE1LM"
      },
      "source": [
        "def reconstruct(L, r, Sbar):\n",
        "    if r >= len(L):\n",
        "        print(\"Error: r must be less than the length of L.\")\n",
        "        return\n",
        "\n",
        "    m = len(Sbar)//3 # the leading dimension of a single channel\n",
        "\n",
        "    # Reconstruct the original image up to rank j.\n",
        "    Ar = np.sum(L[:r], axis=0)\n",
        "   \n",
        "    # Add back the mean and reshape into m by n by p.\n",
        "    Ar += Sbar.reshape(-1,1)\n",
        "    imr = np.stack([Ar[:m,:],\n",
        "\t\t\t\t            Ar[m:2*m,:],\n",
        "\t\t\t\t            Ar[2*m:,:]], axis=2)\n",
        "    \n",
        "    # truncate values and return the reconstructed image.\n",
        "    imr[imr<0] = 0; imr[imr>1] = 1\n",
        "    return imr\n",
        "\n",
        "# Run a test:\n",
        "k = 120; r = 12\n",
        "U, s, Vt, Sbar = factor(S)\n",
        "L = rank_approx(U, s, Vt, k)\n",
        "imr = reconstruct(L, r, Sbar)\n",
        "\n",
        "plt.imshow(imr)\n",
        "plt.axis(\"off\")\n",
        "plt.show()"
      ],
      "execution_count": null,
      "outputs": []
    },
    {
      "cell_type": "markdown",
      "metadata": {
        "id": "olJX8mKUDMf-"
      },
      "source": [
        "If the above test was successful, you should now be able to run the following widget to interactively vary the rank and visualize the resulting reconstruction. With your group, decide how many singular vectors you feel are necessary to reconstruct the image before differences between the original become imperceptible."
      ]
    },
    {
      "cell_type": "code",
      "metadata": {
        "id": "k3930Db2DJOo"
      },
      "source": [
        "import ipywidgets as widgets\n",
        "from ipywidgets import interactive\n",
        "\n",
        "rmax = 120\n",
        "U, s, Vt, Sbar = factor(S)\n",
        "L = rank_approx(U, s, Vt, rmax+1)\n",
        "\n",
        "rank_slider = widgets.IntSlider(\n",
        "    value=1, min=1, max=rmax, step=1,\n",
        "    description='rank:', continuous_update=False)\n",
        "\n",
        "def rank_slider_plot(r = 1):\n",
        "    plt.close()\n",
        "    \n",
        "    imr = reconstruct(L, r, Sbar)\n",
        "\n",
        "    # Plot the original and compressed images.\n",
        "    fig, (ax1, ax2) = plt.subplots(1,2, figsize=(12,6))\n",
        "    ax1.imshow(im)\n",
        "    ax1.set_title(\"original\", size=16)\n",
        "    ax1.axis(\"off\")\n",
        "\n",
        "    ax2.imshow(imr)\n",
        "    ax2.set_title(\"reconstruction\", size=16)\n",
        "    ax2.axis(\"off\")\n",
        "    plt.show()\n",
        "\n",
        "\n",
        "interactive_plot = interactive(rank_slider_plot, r=rank_slider)\n",
        "output = interactive_plot.children[-1]\n",
        "output.layout.height = '400px'\n",
        "interactive_plot"
      ],
      "execution_count": null,
      "outputs": []
    },
    {
      "cell_type": "markdown",
      "metadata": {
        "id": "lmB--J1ULjGV"
      },
      "source": [
        "Let's look at two metrics to quantify our \"visually optimal\" reconstruction for our $m\\times{n}\\times{3}$ image:\n",
        "\n",
        "1) Explained variance ratio:\n",
        "$$\n",
        "p(r) = \\frac{\\sum_{j=1}^r \\sigma_j^2}{\\sum_{j=1}^n \\sigma_j^2}\n",
        "$$\n",
        "\n",
        "2) Compression ratio:\n",
        "$$\n",
        "c(r) = \\frac{r(3m + n + 1) + 3m}{3mn}\n",
        "$$\n",
        "\n",
        "In the second formula, the numerator represents the amount of storage space required for the factors in the rank-$r$ approximation - a vector $u$ of length $3m$, a vector $v^T$ of length $n$, and a scalar $\\sigma$ needed to assemble each of the $r$ rank-one matrices - plus the column mean of length $3m$."
      ]
    },
    {
      "cell_type": "code",
      "metadata": {
        "id": "1jeif3UxGFAQ"
      },
      "source": [
        "def p(r):\n",
        "    var = np.square(s)\n",
        "    return np.sum(var[:r])/np.sum(var)\n",
        "\n",
        "def c(r):\n",
        "    return (r*(3*m + n + 1) + 3*m)/(3*m*n)\n",
        "\n",
        "# mean of class optimal ranks:\n",
        "rs = [84, 90]\n",
        "ravg = int(np.mean(rs))\n",
        "\n",
        "print(\"Explained variance ratio: {:5.4f}\".format(p(ravg)))\n",
        "print(\"Compression ratio: {:5.4f}\".format(c(ravg)))\n",
        "\n",
        "# plot of singular values\n",
        "fig, ax = plt.subplots(1,1, figsize=(6,6))\n",
        "ax.plot(np.arange(1,n+1,1), s, lw=2, color='C0')\n",
        "ax.axvline(ravg, lw=2, color='C1', label=\"r={:d}\".format(ravg))\n",
        "ax.set_yscale('log')\n",
        "ax.set_ylim(bottom=1e-2)\n",
        "ax.set_xlabel(\"$r_i$\", size=20)\n",
        "ax.set_ylabel(\"$\\\\sigma_i$\", size=20)\n",
        "ax.tick_params(labelsize=18)\n",
        "ax.legend(fontsize=16)\n",
        "plt.show()"
      ],
      "execution_count": null,
      "outputs": []
    },
    {
      "cell_type": "code",
      "metadata": {
        "id": "6lEzyO9QQ0wd"
      },
      "source": [
        ""
      ],
      "execution_count": null,
      "outputs": []
    }
  ]
}